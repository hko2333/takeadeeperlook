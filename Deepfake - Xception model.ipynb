{
 "cells": [
  {
   "cell_type": "code",
   "execution_count": null,
   "metadata": {},
   "outputs": [],
   "source": [
    "import tensorflow as tf\n",
    "import numpy as np\n",
    "\n",
    "from tensorflow import keras as K\n",
    "from tensorflow.keras.models import Model\n",
    "from tensorflow.keras.layers import Dense, GlobalMaxPooling2D\n",
    "from tensorflow.keras.preprocessing.image import ImageDataGenerator"
   ]
  },
  {
   "cell_type": "code",
   "execution_count": null,
   "metadata": {},
   "outputs": [],
   "source": [
    "#Pretrained Xception model in Keras, input shape set as 200,200,3, Removed top softmax layer\n",
    "xception_model = K.applications.Xception(\n",
    "    weights='imagenet',  \n",
    "    input_shape=(200, 200, 3),\n",
    "    include_top=False)\n",
    "xception_model.trainable=True"
   ]
  },
  {
   "cell_type": "code",
   "execution_count": null,
   "metadata": {},
   "outputs": [],
   "source": [
    "#Add a Max Pooling layer, followed by a sigmoid output layer\n",
    "x = xception_model.output\n",
    "x = GlobalMaxPooling2D()(x)\n",
    "predictions = Dense(1, activation='sigmoid')(x)\n",
    "model = Model(inputs=xception_model.input, outputs=predictions)\n",
    "model.compile(optimizer='adam', loss='binary_crossentropy', metrics=['accuracy'])"
   ]
  },
  {
   "cell_type": "code",
   "execution_count": null,
   "metadata": {},
   "outputs": [],
   "source": [
    "#This is only used when loading model weights to test other datasets. Update FILENAME\n",
    "model.load_weights('FILENAME.h5') "
   ]
  },
  {
   "cell_type": "code",
   "execution_count": null,
   "metadata": {},
   "outputs": [],
   "source": [
    "# Load training data, update TRAIN DIRECTORY\n",
    "train_datagen = ImageDataGenerator()\n",
    "train_generator = train_datagen.flow_from_directory(\n",
    "        'TRAIN DIRECTORY',   \n",
    "        batch_size=16,\n",
    "        class_mode='binary',\n",
    "    shuffle=True)"
   ]
  },
  {
   "cell_type": "code",
   "execution_count": null,
   "metadata": {},
   "outputs": [],
   "source": [
    "# Load validation data, update VAL DIRECTORY\n",
    "val_datagen = ImageDataGenerator()\n",
    "val_generator = val_datagen.flow_from_directory(\n",
    "        'VAL DIRECTORY',  \n",
    "        batch_size=16,\n",
    "        class_mode='binary',\n",
    "    shuffle=True)"
   ]
  },
  {
   "cell_type": "code",
   "execution_count": null,
   "metadata": {
    "scrolled": true
   },
   "outputs": [],
   "source": [
    "#Model is trained for 15 epochs, update SAVE FILE\n",
    "model.fit(x=train_generator, \n",
    "    epochs=15,\n",
    "    verbose=1,\n",
    "    shuffle=True,\n",
    "    validation_data = val_generator\n",
    ")\n",
    "model.save_weights('SAVE FILE.h5') "
   ]
  },
  {
   "cell_type": "code",
   "execution_count": null,
   "metadata": {},
   "outputs": [],
   "source": [
    "#Model can be evaluated on other datasets.\n",
    "model.evaluate(\n",
    "    x=val_generator,\n",
    "    verbose=1,\n",
    ")"
   ]
  },
  {
   "cell_type": "code",
   "execution_count": null,
   "metadata": {},
   "outputs": [],
   "source": [
    "#Model predictions can be saved (similar to evaluate) for use in calculation of metrics, Make sure to set Val Generator shuffling to False\n",
    "preds = model.predict(\n",
    "    x=val_generator,\n",
    "    verbose=1,\n",
    "    steps=None,\n",
    "    callbacks=None,\n",
    "    max_queue_size=10,\n",
    "    workers=1,\n",
    "    use_multiprocessing=False,\n",
    ")"
   ]
  }
 ],
 "metadata": {
  "kernelspec": {
   "display_name": "Python 3",
   "language": "python",
   "name": "python3"
  },
  "language_info": {
   "codemirror_mode": {
    "name": "ipython",
    "version": 3
   },
   "file_extension": ".py",
   "mimetype": "text/x-python",
   "name": "python",
   "nbconvert_exporter": "python",
   "pygments_lexer": "ipython3",
   "version": "3.7.9"
  }
 },
 "nbformat": 4,
 "nbformat_minor": 4
}
